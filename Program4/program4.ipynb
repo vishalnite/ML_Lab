{
 "cells": [
  {
   "cell_type": "code",
   "execution_count": 1,
   "id": "a63f3602",
   "metadata": {},
   "outputs": [],
   "source": [
    "import pandas as pd\n",
    "import math"
   ]
  },
  {
   "cell_type": "code",
   "execution_count": 2,
   "id": "8144114d",
   "metadata": {},
   "outputs": [],
   "source": [
    "def base_entropy(dataset):\n",
    "    p = 0\n",
    "    n = 0\n",
    "    target = dataset.iloc[:,-1]\n",
    "    targets = list(set(target))\n",
    "    for i in target:\n",
    "        if i == targets[0]:\n",
    "            p = p + 1\n",
    "        else:\n",
    "            n = n + 1\n",
    "        if p == 0 or n == 0:\n",
    "            return 0\n",
    "        elif p == n:\n",
    "            return 1\n",
    "        else:\n",
    "            entropy = 0 - ((p/(p + n)) * (math.log2(p/(p + n))) + (n/(p + n)) * (math.log2(n/(p + n))))\n",
    "            return entropy"
   ]
  },
  {
   "cell_type": "code",
   "execution_count": 3,
   "id": "fa01a18a",
   "metadata": {},
   "outputs": [],
   "source": [
    "def entropy(dataset, feature, attribute):\n",
    "    p = 0\n",
    "    n = 0\n",
    "    target = dataset.iloc[:,-1]\n",
    "    targets = list(set(target))\n",
    "    for i, j in zip(feature, target):\n",
    "        if i == attribute and j == targets[0]:\n",
    "            p = p + 1\n",
    "        elif i == attribute and j == targets[1]:\n",
    "            n = n + 1\n",
    "        if p == 0 or n == 0:\n",
    "            return 0\n",
    "        elif p == n:\n",
    "            return 1\n",
    "        else:\n",
    "            entropy = 0 - ((p/(p + n)) * (math.log2(p/(p + n))) + (n/(p + n)) * (math.log2(n/(p + n))))\n",
    "            return entropy"
   ]
  },
  {
   "cell_type": "code",
   "execution_count": 4,
   "id": "2611fba6",
   "metadata": {},
   "outputs": [],
   "source": [
    "def counter(target, attribute, i):\n",
    "    p = 0\n",
    "    n = 0\n",
    "    targets = list(set(target))\n",
    "    for j, k in zip(target, attribute):\n",
    "        if j == targets[0] and k == i:\n",
    "            p = p + 1\n",
    "        elif j == targets[1] and k == i:\n",
    "            n = n + 1\n",
    "    return p, n"
   ]
  },
  {
   "cell_type": "code",
   "execution_count": 5,
   "id": "7c54968a",
   "metadata": {},
   "outputs": [],
   "source": [
    "def Information_Gain(dataset, feature):\n",
    "    Distinct = list(set(feature))\n",
    "    Info_Gain = 0\n",
    "    for i in Distinct:\n",
    "        Info_Gain = Info_Gain + feature.count(i)/len(feature) * entropy(dataset, feature, i)\n",
    "        Info_Gain = base_entropy(dataset) - Info_Gain\n",
    "    return Info_Gain"
   ]
  },
  {
   "cell_type": "code",
   "execution_count": 6,
   "id": "4a273c53",
   "metadata": {},
   "outputs": [],
   "source": [
    "def generate_childs(dataset, attribute_index):\n",
    "    distinct = list(dataset.iloc[:, attribute_index])\n",
    "    childs = dict()\n",
    "    for i in distinct:\n",
    "        childs[i] = counter(dataset.iloc[:, -1], dataset.iloc[:, attribute_index], i)\n",
    "    return childs"
   ]
  },
  {
   "cell_type": "code",
   "execution_count": 7,
   "id": "4c1db0eb",
   "metadata": {},
   "outputs": [],
   "source": [
    "def modify_data_set(dataset, index, feature, impurity):\n",
    "    size = len(dataset)\n",
    "    subdata = dataset[dataset[feature] == impurity]\n",
    "    del(subdata[subdata.columns[index]])\n",
    "    return subdata"
   ]
  },
  {
   "cell_type": "code",
   "execution_count": 8,
   "id": "38ba3bad",
   "metadata": {},
   "outputs": [],
   "source": [
    "def greatest_information_gain(dataset):\n",
    "    max = -1\n",
    "    attribute_index = 0\n",
    "    size = len(dataset.columns) - 1\n",
    "    for i in range(0, size):\n",
    "        feature = list(dataset.iloc[:, i])\n",
    "        i_g = Information_Gain(dataset, feature)\n",
    "        if max < i_g:\n",
    "            max = i_g\n",
    "            attribute_index = i\n",
    "    return attribute_index"
   ]
  },
  {
   "cell_type": "code",
   "execution_count": 9,
   "id": "8b3a7ee3",
   "metadata": {},
   "outputs": [],
   "source": [
    "def construct_tree(dataset, tree):\n",
    "    target = dataset.iloc[:, -1]\n",
    "    impure_childs = []\n",
    "    attribute_index = greatest_information_gain(dataset)\n",
    "    childs = generate_childs(dataset, attribute_index)\n",
    "    tree[dataset.columns[attribute_index]] = childs\n",
    "    targets = list(set(dataset.iloc[:, -1]))\n",
    "    for k, v in childs.items():\n",
    "        if v[0] == 0:\n",
    "            tree[k] = targets[1]\n",
    "        elif v[1] == 0:\n",
    "            tree[k] = targets[0]\n",
    "        elif v[0] != 0 or v[1] != 0:\n",
    "            impure_childs.append(k)\n",
    "    for i in impure_childs:\n",
    "        sub = modify_data_set(dataset, attribute_index, dataset.columns[attribute_index], i)\n",
    "        tree = construct_tree(sub, tree)\n",
    "    return tree"
   ]
  },
  {
   "cell_type": "code",
   "execution_count": 10,
   "id": "cb00049a",
   "metadata": {},
   "outputs": [
    {
     "name": "stdout",
     "output_type": "stream",
     "text": [
      "Outlook => {'Sunny': (2, 3), 'Overcast': (4, 0), 'Rain': (3, 2)}\n",
      "Overcast => Yes\n",
      "Temperature => {'Mild': (1, 2), 'Cool': (1, 1)}\n",
      "Hot => No\n",
      "Cool => Yes\n",
      "Humidity => {'Normal': (1, 1)}\n",
      "High => No\n",
      "Normal => Yes\n",
      "Wind => {'Weak': (0, 1), 'Strong': (1, 0)}\n",
      "Weak => Yes\n",
      "Strong => No\n"
     ]
    }
   ],
   "source": [
    "# def main():\n",
    "df = pd.read_csv('playtennis.csv')\n",
    "tree = dict()\n",
    "result = construct_tree(df, tree)\n",
    "for key, value in result.items():\n",
    "    print(key, \"=>\", value)"
   ]
  },
  {
   "cell_type": "code",
   "execution_count": 11,
   "id": "be3c6ab3",
   "metadata": {},
   "outputs": [],
   "source": [
    "# if __name__ == '__main__':\n",
    "#     main()"
   ]
  },
  {
   "cell_type": "code",
   "execution_count": null,
   "id": "92a968fd",
   "metadata": {},
   "outputs": [],
   "source": []
  }
 ],
 "metadata": {
  "kernelspec": {
   "display_name": "Python 3 (ipykernel)",
   "language": "python",
   "name": "python3"
  },
  "language_info": {
   "codemirror_mode": {
    "name": "ipython",
    "version": 3
   },
   "file_extension": ".py",
   "mimetype": "text/x-python",
   "name": "python",
   "nbconvert_exporter": "python",
   "pygments_lexer": "ipython3",
   "version": "3.11.0"
  }
 },
 "nbformat": 4,
 "nbformat_minor": 5
}

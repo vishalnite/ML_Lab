{
 "cells": [
  {
   "cell_type": "code",
   "execution_count": 1,
   "id": "aa44456c",
   "metadata": {},
   "outputs": [
    {
     "name": "stdout",
     "output_type": "stream",
     "text": [
      "     sky air_temp humidity    wind water forecast enjoy_sport\n",
      "0  sunny     warm   normal  strong  warm     same         yes\n",
      "1  sunny     warm     high  strong  warm     same         yes\n",
      "2  rainy     cold     high  strong  warm   change          no\n",
      "3  sunny     warm     high  strong  cool   change         yes\n",
      "-----------\n",
      "[['sunny' 'warm' 'normal' 'strong' 'warm' 'same']\n",
      " ['sunny' 'warm' 'high' 'strong' 'warm' 'same']\n",
      " ['rainy' 'cold' 'high' 'strong' 'warm' 'change']\n",
      " ['sunny' 'warm' 'high' 'strong' 'cool' 'change']]\n",
      "-----------\n",
      "['yes' 'yes' 'no' 'yes']\n",
      "-----------\n",
      "Most specific hypothesis by FIND-S algorithm is: ['sunny' 'warm' '?' 'strong' '?' '?']\n",
      "Final hypothesis space by LIST THEN ELIMINATE algorithm is: ['sunny', 'warm', 'high', 'strong', '?', '?']\n"
     ]
    }
   ],
   "source": [
    "import pandas as pd\n",
    "import numpy as np\n",
    "\n",
    "def find_s(con, tar):\n",
    "    # Initialize the specific hypothesis to the first positive example\n",
    "    for i, val in enumerate(tar):\n",
    "        if val == 'yes':\n",
    "            specific_h = con[i].copy()\n",
    "            break\n",
    "            \n",
    "    # Loop through the positive examples and update the specific hypothesis\n",
    "    for i, val in enumerate(con):\n",
    "        if tar[i] == 'yes':\n",
    "            for j in range(len(specific_h)):\n",
    "                if val[j] != specific_h[j]:\n",
    "                    specific_h[j] = '?'\n",
    "                else:\n",
    "                    pass\n",
    "    \n",
    "    return specific_h\n",
    "\n",
    "def list_then_eliminate(con, tar):\n",
    "    # Initialize the most general hypothesis\n",
    "    general_h = ['?' for i in range(len(con[0]))]\n",
    "    \n",
    "    # Loop through the positive examples and eliminate any inconsistent attribute\n",
    "    for i, val in enumerate(tar):\n",
    "        if val == 'yes':\n",
    "            for j in range(len(con[i])):\n",
    "                if general_h[j] == '?':\n",
    "                    general_h[j] = con[i][j]\n",
    "                elif general_h[j] != con[i][j]:\n",
    "                    general_h[j] = '?'\n",
    "    \n",
    "    return general_h\n",
    "\n",
    "\n",
    "# Load the dataset from a CSV file\n",
    "data = pd.read_csv('enjoysport.csv')\n",
    "print(data) \n",
    "\n",
    "# Split the dataset into attributes and target variable\n",
    "print(\"-----------\")\n",
    "concepts=np.array(data)[:,:-1]\n",
    "print(concepts)\n",
    "print(\"-----------\")\n",
    "targets=np.array(data)[:,-1]\n",
    "print(targets)\n",
    "print(\"-----------\")\n",
    "# Apply the FIND-S algorithm to find the specific hypothesis\n",
    "h1 = find_s(concepts,targets)\n",
    "print(\"Most specific hypothesis by FIND-S algorithm is:\", h1)\n",
    "\n",
    "# Apply the LIST THEN ELIMINATE algorithm to find the most specific hypothesis\n",
    "h2 = list_then_eliminate(concepts,targets)\n",
    "print(\"Final hypothesis space by LIST THEN ELIMINATE algorithm is:\", h2)"
   ]
  },
  {
   "cell_type": "code",
   "execution_count": null,
   "id": "b14e8669",
   "metadata": {},
   "outputs": [],
   "source": []
  }
 ],
 "metadata": {
  "kernelspec": {
   "display_name": "Python 3 (ipykernel)",
   "language": "python",
   "name": "python3"
  },
  "language_info": {
   "codemirror_mode": {
    "name": "ipython",
    "version": 3
   },
   "file_extension": ".py",
   "mimetype": "text/x-python",
   "name": "python",
   "nbconvert_exporter": "python",
   "pygments_lexer": "ipython3",
   "version": "3.11.0"
  }
 },
 "nbformat": 4,
 "nbformat_minor": 5
}
